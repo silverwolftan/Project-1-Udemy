{
 "cells": [
  {
   "cell_type": "code",
   "execution_count": 170,
   "metadata": {},
   "outputs": [],
   "source": [
    "# Here is our basic introduction"
   ]
  },
  {
   "cell_type": "code",
   "execution_count": 171,
   "metadata": {},
   "outputs": [
    {
     "name": "stdout",
     "output_type": "stream",
     "text": [
      "Welcome to Tic Tac Toe!\n"
     ]
    }
   ],
   "source": [
    "print('Welcome to Tic Tac Toe!')"
   ]
  },
  {
   "cell_type": "code",
   "execution_count": 172,
   "metadata": {},
   "outputs": [
    {
     "name": "stdout",
     "output_type": "stream",
     "text": [
      "Player 1: Do you want to be X or O?\n"
     ]
    }
   ],
   "source": [
    "print('Player 1: Do you want to be X or O?')"
   ]
  },
  {
   "cell_type": "code",
   "execution_count": 173,
   "metadata": {},
   "outputs": [
    {
     "name": "stdout",
     "output_type": "stream",
     "text": [
      "'Please pick a marker 'X' or 'O'X\n"
     ]
    }
   ],
   "source": [
    "player1 = input(\"'Please pick a marker 'X' or 'O'\")"
   ]
  },
  {
   "cell_type": "code",
   "execution_count": 174,
   "metadata": {},
   "outputs": [],
   "source": [
    "if player1 == 'X':\n",
    "    player2 = 'O'\n",
    "else:\n",
    "    player2 = 'X'"
   ]
  },
  {
   "cell_type": "code",
   "execution_count": 175,
   "metadata": {},
   "outputs": [
    {
     "name": "stdout",
     "output_type": "stream",
     "text": [
      "You can place your markers by inputing a position on the board.\n",
      "0 |1 |2 \n",
      "--+--+--\n",
      "3 |4 |5 \n",
      "--+--+--\n",
      "6 |7 |8 \n",
      "Player 1 will go first.\n"
     ]
    }
   ],
   "source": [
    "print('You can place your markers by inputing a position on the board.')\n",
    "print('0 |1 |2 ')\n",
    "print('--+--+--')\n",
    "print('3 |4 |5 ')\n",
    "print('--+--+--')\n",
    "print('6 |7 |8 ')\n",
    "print('Player 1 will go first.')"
   ]
  },
  {
   "cell_type": "code",
   "execution_count": 176,
   "metadata": {},
   "outputs": [],
   "source": [
    "board = ['  ','  ','  ','  ','  ','  ','  ','  ','  ']"
   ]
  },
  {
   "cell_type": "code",
   "execution_count": 177,
   "metadata": {},
   "outputs": [],
   "source": [
    "# We are going to need to run this up to 9 times. \n",
    "# Us an if statement to end if someone wins or it's a draw. "
   ]
  },
  {
   "cell_type": "code",
   "execution_count": 179,
   "metadata": {},
   "outputs": [
    {
     "name": "stdout",
     "output_type": "stream",
     "text": [
      "X |O |X \n",
      "--+--+--\n",
      "O |O |X \n",
      "--+--+--\n",
      "X |X |O \n",
      "It is a draw.\n"
     ]
    }
   ],
   "source": [
    "if player1 == 'X':\n",
    "    gameon = True\n",
    "    for turn in range(1,10):\n",
    "        if turn == 1 or\\\n",
    "        turn == 2 or\\\n",
    "        turn == 3 or\\\n",
    "        turn == 4 or\\\n",
    "        turn == 5 or\\\n",
    "        turn == 6 or\\\n",
    "        turn == 7 or\\\n",
    "        turn == 8 or\\\n",
    "        turn == 9:\n",
    "            while gameon == True:\n",
    "                if board[0] ==  'X ' and board[1] == 'X ' and board[2] == 'X ' or \\\n",
    "                board[3] == 'X ' and board[4] == 'X ' and board[5] == 'X ' or \\\n",
    "                board[6] == 'X ' and board[7] == 'X ' and board[8] == 'X ' or \\\n",
    "                board[0] == 'X ' and board[3] == 'X ' and board[6] == 'X ' or \\\n",
    "                board[1] == 'X ' and board[4] == 'X ' and board[7] == 'X ' or \\\n",
    "                board[2] == 'X ' and board[5] == 'X ' and board[8] == 'X ' or \\\n",
    "                board[0] == 'X ' and board[4] == 'X ' and board[8] == 'X ' or \\\n",
    "                board[2] == 'X ' and board[4] == 'X ' and board[6] == 'X ':\n",
    "                    print(board[0]+'|'+board[1]+'|'+board[2])\n",
    "                    print('--+--+--')\n",
    "                    print(board[3]+'|'+board[4]+'|'+board[5])\n",
    "                    print('--+--+--')\n",
    "                    print(board[6]+'|'+board[7]+'|'+board[8])\n",
    "                    print('player 1 wins')\n",
    "                    gameon = False\n",
    "\n",
    "                elif board[0] == 'O ' and board[1] == 'O ' and board[2] == 'O ' or \\\n",
    "                board[3] == 'O ' and board[4] == 'O ' and board[5] == 'O ' or \\\n",
    "                board[6] == 'O ' and board[7] == 'O ' and board[8] == 'O ' or \\\n",
    "                board[0] == 'O ' and board[3] == 'O ' and board[6] == 'O ' or \\\n",
    "                board[1] == 'O ' and board[4] == 'O ' and board[7] == 'O ' or \\\n",
    "                board[2] == 'O ' and board[5] == 'O ' and board[8] == 'O ' or \\\n",
    "                board[0] == 'O ' and board[4] == 'O ' and board[8] == 'O ' or \\\n",
    "                board[2] == 'O ' and board[4] == 'O ' and board[6] == 'O ':\n",
    "                    print(board[0]+'|'+board[1]+'|'+board[2])\n",
    "                    print('--+--+--')\n",
    "                    print(board[3]+'|'+board[4]+'|'+board[5])\n",
    "                    print('--+--+--')\n",
    "                    print(board[6]+'|'+board[7]+'|'+board[8])\n",
    "                    print('player 2 wins')\n",
    "                    gameon = False\n",
    "\n",
    "                elif board[0] != '  ' and \\\n",
    "                board[1] != '  ' and \\\n",
    "                board[2] != '  ' and \\\n",
    "                board[3] != '  ' and \\\n",
    "                board[4] != '  ' and \\\n",
    "                board[5] != '  ' and \\\n",
    "                board[6] != '  ' and \\\n",
    "                board[7] != '  ' and \\\n",
    "                board[8] != '  ':\n",
    "                    print(board[0]+'|'+board[1]+'|'+board[2])\n",
    "                    print('--+--+--')\n",
    "                    print(board[3]+'|'+board[4]+'|'+board[5])\n",
    "                    print('--+--+--')\n",
    "                    print(board[6]+'|'+board[7]+'|'+board[8])\n",
    "                    print('It is a draw.')\n",
    "                    gameon = False\n",
    "\n",
    "                else:\n",
    "                    if turn == 1 or\\\n",
    "                    turn == 3 or\\\n",
    "                    turn == 5 or\\\n",
    "                    turn == 7 or\\\n",
    "                    turn == 9:\n",
    "                        print(board[0]+'|'+board[1]+'|'+board[2])\n",
    "                        print('--+--+--')\n",
    "                        print(board[3]+'|'+board[4]+'|'+board[5])\n",
    "                        print('--+--+--')\n",
    "                        print(board[6]+'|'+board[7]+'|'+board[8])\n",
    "                        p1m = int(input('Player 1 make your move'))\n",
    "                        board[p1m] = ('X ')\n",
    "                    else:\n",
    "                        print(board[0]+'|'+board[1]+'|'+board[2])\n",
    "                        print('--+--+--')\n",
    "                        print(board[3]+'|'+board[4]+'|'+board[5])\n",
    "                        print('--+--+--')\n",
    "                        print(board[6]+'|'+board[7]+'|'+board[8])\n",
    "                        p2m = int(input('Player 2 make your move'))\n",
    "                        board[p2m] = ('O ')\n",
    "                    \n",
    "                    break\n",
    "\n",
    "    # print(board[0]+'|'+board[1]+'|'+board[2])\n",
    "    # print('--+--+--')\n",
    "    # print(board[3]+'|'+board[4]+'|'+board[5])\n",
    "    # print('--+--+--')\n",
    "    # print(board[6]+'|'+board[7]+'|'+board[8])\n",
    "\n",
    "else:\n",
    "    gameon = True\n",
    "    for turn in range(1,10):\n",
    "        if turn == 1 or\\\n",
    "        turn == 2 or\\\n",
    "        turn == 3 or\\\n",
    "        turn == 4 or\\\n",
    "        turn == 5 or\\\n",
    "        turn == 6 or\\\n",
    "        turn == 7 or\\\n",
    "        turn == 8 or\\\n",
    "        turn == 9:\n",
    "            while gameon == True:\n",
    "                if board[0] == 'O ' and board[1] == 'O ' and board[2] == 'O ' or \\\n",
    "                board[3] == 'O ' and board[4] == 'O ' and board[5] == 'O ' or \\\n",
    "                board[6] == 'O ' and board[7] == 'O ' and board[8] == 'O ' or \\\n",
    "                board[0] == 'O ' and board[3] == 'O ' and board[6] == 'O ' or \\\n",
    "                board[1] == 'O ' and board[4] == 'O ' and board[7] == 'O ' or \\\n",
    "                board[2] == 'O ' and board[5] == 'O ' and board[8] == 'O ' or \\\n",
    "                board[0] == 'O ' and board[4] == 'O ' and board[8] == 'O ' or \\\n",
    "                board[2] == 'O ' and board[4] == 'O ' and board[6] == 'O ':\n",
    "                    print(board[0]+'|'+board[1]+'|'+board[2])\n",
    "                    print('--+--+--')\n",
    "                    print(board[3]+'|'+board[4]+'|'+board[5])\n",
    "                    print('--+--+--')\n",
    "                    print(board[6]+'|'+board[7]+'|'+board[8])\n",
    "                    print('player 1 wins')\n",
    "                    gameon == False\n",
    "\n",
    "                elif board[0] == 'X ' and board[1] == 'X ' and board[2] == 'X ' or \\\n",
    "                board[3] == 'X ' and board[4] == 'X ' and board[5] == 'X ' or \\\n",
    "                board[6] == 'X ' and board[7] == 'X ' and board[8] == 'X ' or \\\n",
    "                board[0] == 'X ' and board[3] == 'X ' and board[6] == 'X ' or \\\n",
    "                board[1] == 'X ' and board[4] == 'X ' and board[7] == 'X ' or \\\n",
    "                board[2] == 'X ' and board[5] == 'X ' and board[8] == 'X ' or \\\n",
    "                board[0] == 'X ' and board[4] == 'X ' and board[8] == 'X ' or \\\n",
    "                board[2] == 'X ' and board[4] == 'X ' and board[6] == 'X ':\n",
    "                    print(board[0]+'|'+board[1]+'|'+board[2])\n",
    "                    print('--+--+--')\n",
    "                    print(board[3]+'|'+board[4]+'|'+board[5])\n",
    "                    print('--+--+--')\n",
    "                    print(board[6]+'|'+board[7]+'|'+board[8])\n",
    "                    print('player 2 wins')\n",
    "                    gameon == False\n",
    "\n",
    "                elif board[0] != '  ' and \\\n",
    "                board[1] != '  ' and \\\n",
    "                board[2] != '  ' and \\\n",
    "                board[3] != '  ' and \\\n",
    "                board[4] != '  ' and \\\n",
    "                board[5] != '  ' and \\\n",
    "                board[6] != '  ' and \\\n",
    "                board[7] != '  ' and \\\n",
    "                board[8] != '  ':\n",
    "                    print(board[0]+'|'+board[1]+'|'+board[2])\n",
    "                    print('--+--+--')\n",
    "                    print(board[3]+'|'+board[4]+'|'+board[5])\n",
    "                    print('--+--+--')\n",
    "                    print(board[6]+'|'+board[7]+'|'+board[8])\n",
    "                    print('It is a draw.')\n",
    "                    gameon == False\n",
    "\n",
    "                else:\n",
    "                    if turn == 1 or\\\n",
    "                    turn == 3 or\\\n",
    "                    turn == 5 or\\\n",
    "                    turn == 7 or\\\n",
    "                    turn == 9:\n",
    "                        print(board[0]+'|'+board[1]+'|'+board[2])\n",
    "                        print('--+--+--')\n",
    "                        print(board[3]+'|'+board[4]+'|'+board[5])\n",
    "                        print('--+--+--')\n",
    "                        print(board[6]+'|'+board[7]+'|'+board[8])\n",
    "                        p1m = int(input('Player 1 make your move'))\n",
    "                        board[p1m] = ('O ')\n",
    "                    else:\n",
    "                        print(board[0]+'|'+board[1]+'|'+board[2])\n",
    "                        print('--+--+--')\n",
    "                        print(board[3]+'|'+board[4]+'|'+board[5])\n",
    "                        print('--+--+--')\n",
    "                        print(board[6]+'|'+board[7]+'|'+board[8])\n",
    "                        p2m = int(input('Player 2 make your move'))\n",
    "                        board[p2m] = ('X ')\n",
    "                        \n",
    "                break\n",
    "                        \n",
    "    # print(board[0]+'|'+board[1]+'|'+board[2])\n",
    "    # print('--+--+--')\n",
    "    # print(board[3]+'|'+board[4]+'|'+board[5])\n",
    "    # print('--+--+--')\n",
    "    # print(board[6]+'|'+board[7]+'|'+board[8])"
   ]
  },
  {
   "cell_type": "code",
   "execution_count": null,
   "metadata": {},
   "outputs": [],
   "source": []
  }
 ],
 "metadata": {
  "kernelspec": {
   "display_name": "Python 3",
   "language": "python",
   "name": "python3"
  },
  "language_info": {
   "codemirror_mode": {
    "name": "ipython",
    "version": 3
   },
   "file_extension": ".py",
   "mimetype": "text/x-python",
   "name": "python",
   "nbconvert_exporter": "python",
   "pygments_lexer": "ipython3",
   "version": "3.7.3"
  }
 },
 "nbformat": 4,
 "nbformat_minor": 2
}
